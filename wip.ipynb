{
 "cells": [
  {
   "cell_type": "code",
   "execution_count": 1,
   "metadata": {
    "collapsed": true
   },
   "outputs": [],
   "source": [
    "from controller import (\n",
    "    get_jan,\n",
    "    get_yahoo_lowest,\n",
    "    get_rakuten_lowest_page,\n",
    "    get_rakuten_lowest,\n",
    ")"
   ]
  },
  {
   "cell_type": "code",
   "execution_count": 3,
   "metadata": {
    "collapsed": true
   },
   "outputs": [],
   "source": [
    "# coding: utf-8\n",
    "\n",
    "import urllib.request\n",
    "from bs4 import BeautifulSoup\n",
    "\n",
    "\n",
    "def get_soup(url):\n",
    "    req = urllib.request.Request(url)\n",
    "    response = urllib.request.urlopen(req)\n",
    "    html = response.read()\n",
    "    return BeautifulSoup(html, \"lxml\")\n",
    "\n",
    "def format_number(number, sign):\n",
    "    res = \"\"\n",
    "    for n in number.replace(sign, \"\"):\n",
    "        res += n.replace(\",\", \"\").replace(\" \", \"\")\n",
    "    return int(res)\n"
   ]
  },
  {
   "cell_type": "code",
   "execution_count": 8,
   "metadata": {
    "collapsed": true
   },
   "outputs": [],
   "source": []
  },
  {
   "cell_type": "code",
   "execution_count": 9,
   "metadata": {},
   "outputs": [
    {
     "data": {
      "text/plain": [
       "['yahoo',\n",
       " '<span class=\"yahoo\">Yahoo!ショッピング</span>の方が<span class=\"rakuten\">楽天市場</span>より<span class=\"price\">614円</span>お得！']"
      ]
     },
     "execution_count": 9,
     "metadata": {},
     "output_type": "execute_result"
    }
   ],
   "source": [
    "judge_platform(yahoo, rakuten, False)"
   ]
  },
  {
   "cell_type": "code",
   "execution_count": null,
   "metadata": {
    "collapsed": true
   },
   "outputs": [],
   "source": []
  },
  {
   "cell_type": "code",
   "execution_count": 10,
   "metadata": {
    "collapsed": true
   },
   "outputs": [],
   "source": []
  },
  {
   "cell_type": "code",
   "execution_count": 11,
   "metadata": {},
   "outputs": [
    {
     "name": "stdout",
     "output_type": "stream",
     "text": [
      "{'name': 'Newニンテンドー3DS LL 本体 メタリックブラック[任天堂]【送料無料】《発売済・在庫品》', 'url': 'http://store.shopping.yahoo.co.jp/amiami/game-0012313.html', 'image': 'https://item-shopping.c.yimg.jp/i/j/amiami_game-0012313', 'price': 19690, 'point': 196, 'message': '送料無料'}\n",
      "==================================================\n",
      "{'name': 'Newニンテンドー3DS LL メタリックブラック', 'url': 'https://item.rakuten.co.jp/book/12922903/?l2-id=pdt_shoplist_title_books#17107140', 'price': 20304, 'point': 203, 'message': '送料無料'}\n",
      "==================================================\n",
      "<span class=\"yahoo\">Yahoo!ショッピング</span>の方が<span class=\"rakuten\">楽天市場</span>より<span class=\"price\">607円</span>お得！\n",
      "==================================================\n",
      "{'name': 'Newニンテンドー3DS LL 本体 メタリックブラック[任天堂]【送料無料】《発売済・在庫品》', 'url': 'http://store.shopping.yahoo.co.jp/amiami/game-0012313.html', 'image': 'https://item-shopping.c.yimg.jp/i/j/amiami_game-0012313', 'price': 19690, 'point': 196, 'message': '送料無料'}\n",
      "==================================================\n",
      "{'name': 'Newニンテンドー3DS LL メタリックブラック', 'url': 'https://item.rakuten.co.jp/book/12922903/?l2-id=pdt_shoplist_title_books#17107140', 'price': 20304, 'point': 203, 'message': '送料無料'}\n",
      "==================================================\n",
      "<span class=\"yahoo\">Yahoo!ショッピング</span>の方が<span class=\"rakuten\">楽天市場</span>より<span class=\"price\">614円</span>お得！\n",
      "==================================================\n"
     ]
    }
   ],
   "source": [
    "for i in judges:\n",
    "    print(i)\n",
    "    print(\"=====\"*10)"
   ]
  },
  {
   "cell_type": "code",
   "execution_count": null,
   "metadata": {
    "collapsed": true
   },
   "outputs": [],
   "source": []
  },
  {
   "cell_type": "code",
   "execution_count": null,
   "metadata": {
    "collapsed": true
   },
   "outputs": [],
   "source": []
  },
  {
   "cell_type": "code",
   "execution_count": null,
   "metadata": {
    "collapsed": true
   },
   "outputs": [],
   "source": []
  },
  {
   "cell_type": "code",
   "execution_count": null,
   "metadata": {
    "collapsed": true
   },
   "outputs": [],
   "source": []
  },
  {
   "cell_type": "code",
   "execution_count": 2,
   "metadata": {},
   "outputs": [
    {
     "data": {
      "text/plain": [
       "[{'image': 'https://images-fe.ssl-images-amazon.com/images/I/41pe9DcCwEL._SL75_.jpg',\n",
       "  'jan': '0045496721169',\n",
       "  'name': 'New ニンテンドー3DS ACアダプター (New3DS/New3DSLL/3DS/3DSLL/DSi兼用)'},\n",
       " {'image': 'https://images-fe.ssl-images-amazon.com/images/I/51ZKTlRF07L._SL75_.jpg',\n",
       "  'jan': '4969123700562',\n",
       "  'name': 'New ニンテンドー3DS LL メタリックブルー'},\n",
       " {'image': 'https://images-fe.ssl-images-amazon.com/images/I/418upOqgbTL._SL75_.jpg',\n",
       "  'jan': '4902370529128',\n",
       "  'name': 'Newニンテンドー3DS LL パールホワイト'},\n",
       " {'image': 'https://images-fe.ssl-images-amazon.com/images/I/51GT-5eEACL._SL75_.jpg',\n",
       "  'jan': '4902370522181',\n",
       "  'name': 'New ニンテンドー3DS LL メタリックブラック'},\n",
       " {'image': 'https://images-fe.ssl-images-amazon.com/images/I/51JmZa0SUNL._SL75_.jpg',\n",
       "  'jan': '4902370529883',\n",
       "  'name': 'Newニンテンドー3DS LL メタリックレッド'},\n",
       " {'image': 'https://images-fe.ssl-images-amazon.com/images/I/51ca2NREDQL._SL75_.jpg',\n",
       "  'jan': '',\n",
       "  'name': 'ニンテンドーWii U PROコントローラー [WUP-005]/3DS専用バッテリーパック(CTR-003)(任天堂純正品)'},\n",
       " {'image': 'https://images-fe.ssl-images-amazon.com/images/I/51pKic7fjZL._SL75_.jpg',\n",
       "  'jan': '4562363463633',\n",
       "  'name': 'NINTENDO任天堂3DS用\\u3000交換電池バッテリーパック ドライバー付属'},\n",
       " {'image': 'https://images-fe.ssl-images-amazon.com/images/I/41O4NukUl5L._SL75_.jpg',\n",
       "  'jan': '4902370533217',\n",
       "  'name': 'Newニンテンドー3DS LL ライム×ブラック'},\n",
       " {'image': 'https://images-fe.ssl-images-amazon.com/images/I/41MW4p7gleL._SL75_.jpg',\n",
       "  'jan': '4902370522150',\n",
       "  'name': 'New ニンテンドー3DS ホワイト'},\n",
       " {'image': 'https://images-fe.ssl-images-amazon.com/images/I/51pkT1RbxzL._SL75_.jpg',\n",
       "  'jan': '4902370533224',\n",
       "  'name': 'Newニンテンドー3DS LL ピンク×ホワイト'}]"
      ]
     },
     "execution_count": 2,
     "metadata": {},
     "output_type": "execute_result"
    }
   ],
   "source": [
    "get_jan(\"任天堂3DS\")"
   ]
  },
  {
   "cell_type": "code",
   "execution_count": 3,
   "metadata": {
    "collapsed": true
   },
   "outputs": [],
   "source": [
    "yahoo = get_yahoo_lowest(4902370522181)"
   ]
  },
  {
   "cell_type": "code",
   "execution_count": 4,
   "metadata": {},
   "outputs": [
    {
     "data": {
      "text/plain": [
       "'http://product.rakuten.co.jp/product/-/7525c8fb1507b43515b6bd5871f3ae05/?l2-id=sd_product_item'"
      ]
     },
     "execution_count": 4,
     "metadata": {},
     "output_type": "execute_result"
    }
   ],
   "source": [
    "get_rakuten_lowest_page(4902370522181)"
   ]
  },
  {
   "cell_type": "code",
   "execution_count": 5,
   "metadata": {
    "collapsed": true
   },
   "outputs": [],
   "source": [
    "rakuten = get_rakuten_lowest('http://product.rakuten.co.jp/product/-/7525c8fb1507b43515b6bd5871f3ae05/?l2-id=sd_product_item')"
   ]
  },
  {
   "cell_type": "code",
   "execution_count": null,
   "metadata": {
    "collapsed": true
   },
   "outputs": [],
   "source": []
  },
  {
   "cell_type": "code",
   "execution_count": null,
   "metadata": {
    "collapsed": true
   },
   "outputs": [],
   "source": []
  },
  {
   "cell_type": "code",
   "execution_count": 13,
   "metadata": {
    "collapsed": true
   },
   "outputs": [],
   "source": [
    "def get_rakuten_lowest(url):\n",
    "    soup = get_soup(url)\n",
    "\n",
    "    lowest_item = soup.find(\"tr\", class_=\"specColumnUsed\")\n",
    "\n",
    "    image = soup.find(\"div\", class_=\"itemThumb\").img.attrs[\"src\"]\n",
    "    a_tag = lowest_item.find(\"div\", class_=\"quickViewIteminfo\").a\n",
    "    name = a_tag.text\n",
    "    url = a_tag.attrs[\"href\"]\n",
    "\n",
    "    price = format_number(lowest_item.find(\"span\", class_=\"itemPrice3\").text, \"円\")\n",
    "    point = format_number(lowest_item.find(\"span\", class_=\"pointGet\").text, \"ポイント\")\n",
    "\n",
    "    try:\n",
    "        message = lowest_item.find(\"span\", class_=\"shipfree\").text\n",
    "    except:\n",
    "        message = \"\"\n",
    "\n",
    "    return dict(name=name, url=url, image=image, price=price, point=point, message=message)"
   ]
  },
  {
   "cell_type": "code",
   "execution_count": 12,
   "metadata": {},
   "outputs": [
    {
     "data": {
      "text/plain": [
       "{'message': '送料無料',\n",
       " 'name': 'Newニンテンドー3DS LL メタリックブラック',\n",
       " 'point': 203,\n",
       " 'price': 20304,\n",
       " 'url': 'https://item.rakuten.co.jp/book/12922903/?l2-id=pdt_shoplist_title_books#17107140'}"
      ]
     },
     "execution_count": 12,
     "metadata": {},
     "output_type": "execute_result"
    }
   ],
   "source": [
    "get_rakuten_lowest('http://product.rakuten.co.jp/product/-/7525c8fb1507b43515b6bd5871f3ae05/?l2-id=sd_product_item')"
   ]
  },
  {
   "cell_type": "code",
   "execution_count": 14,
   "metadata": {
    "collapsed": true
   },
   "outputs": [],
   "source": [
    "    soup = get_soup('http://product.rakuten.co.jp/product/-/7525c8fb1507b43515b6bd5871f3ae05/?l2-id=sd_product_item')\n",
    "\n",
    "    lowest_item = soup.find(\"tr\", class_=\"specColumnUsed\")"
   ]
  },
  {
   "cell_type": "code",
   "execution_count": 23,
   "metadata": {},
   "outputs": [
    {
     "data": {
      "text/plain": [
       "'https://thumbnail.image.rakuten.co.jp/ran/img/1001/0004/902/370/522/181/10010004902370522181_1.jpg?_ex=160x160'"
      ]
     },
     "execution_count": 23,
     "metadata": {},
     "output_type": "execute_result"
    }
   ],
   "source": []
  },
  {
   "cell_type": "code",
   "execution_count": 18,
   "metadata": {},
   "outputs": [
    {
     "data": {
      "text/plain": [
       "<tr align=\"center\" class=\"specColumnUsed koboItem\" data-jsonurl=\"http://product.rakuten.co.jp/papi/quickview/product/7525c8fb1507b43515b6bd5871f3ae05/213310/17107140/?oid=000\" koboflg=\"0\" valign=\"top\">\n",
       "<td class=\"quickViewClick firstTd\"><span class=\"UsedTxet01 itemPrice3\">20,304<span class=\"halfyen\"> 円</span></span></td>\n",
       "<td class=\"quickViewClick\"><span class=\"shipfree\">送料無料</span><span class=\"shipSched\">在庫あり(午前中に注文完了分は当日発送)</span></td>\n",
       "<td class=\"quickViewClick\"><span class=\"pointGet\">203ポイント</span></td>\n",
       "<td class=\"quickViewClick quickViewShop\"><ul class=\"shopicon\"><li><a href=\"https://item.rakuten.co.jp/book/12922903/?ls-id=pdt_shoplist_slogo_books#17107140\"><img alt=\"\" src=\"https://thumbnail.image.rakuten.co.jp/@0_mall/book/logo/logo2n.jpg?_ex=90x15\"/></a></li></ul><div class=\"shop_link\"><a href=\"https://item.rakuten.co.jp/book/12922903/?l2-id=pdt_shoplist_stext_books#17107140\">楽天ブックス</a></div>\n",
       "<div align=\"left\" class=\"quickViewShopRating\"><img border=\"0\" height=\"12\" src=\"https://a.ichiba.jp.rakuten-static.com/com/img/pdt/img/star_on.gif?v=201705220001\" width=\"12\"/><img border=\"0\" height=\"12\" src=\"https://a.ichiba.jp.rakuten-static.com/com/img/pdt/img/star_on.gif?v=201705220001\" width=\"12\"/><img border=\"0\" height=\"12\" src=\"https://a.ichiba.jp.rakuten-static.com/com/img/pdt/img/star_on.gif?v=201705220001\" width=\"12\"/><img border=\"0\" height=\"12\" src=\"https://a.ichiba.jp.rakuten-static.com/com/img/pdt/img/star_on.gif?v=201705220001\" width=\"12\"/><img border=\"0\" height=\"12\" src=\"https://a.ichiba.jp.rakuten-static.com/com/img/pdt/img/star_half.gif?v=201705220001\" width=\"12\"/><span class=\"reviewcolor\">4.57</span><a href=\"http://review.rakuten.co.jp/shop/4/213310_213310/1.1/\"> （1,830,273件）</a></div>\n",
       "<div style=\"font-size: 82%;\"><div><img align=\"absmiddle\" alt=\"カード決済可能\" src=\"https://a.ichiba.jp.rakuten-static.com/com/img/pdt/img/pc_card.png?v=201705220001 height=\"/></div><img src=\"https://a.ichiba.jp.rakuten-static.com/com/img/pdt/img/tri_f2ab00.gif?v=201705220001\"/> <a href=\"http://www.rakuten.co.jp/book/info.html\">支払い方法</a></div></td>\n",
       "<td class=\"quickViewClick\">\n",
       "<div class=\"quickViewIteminfo\">\n",
       "<div align=\"left\"><a href=\"https://item.rakuten.co.jp/book/12922903/?l2-id=pdt_shoplist_title_books#17107140\">Newニンテンドー3DS LL メタリックブラック</a></div>\n",
       "<div align=\"left\"><img border=\"0\" height=\"12\" src=\"https://a.ichiba.jp.rakuten-static.com/com/img/pdt/img/star_on.gif?v=201705220001\" width=\"12\"/><img border=\"0\" height=\"12\" src=\"https://a.ichiba.jp.rakuten-static.com/com/img/pdt/img/star_on.gif?v=201705220001\" width=\"12\"/><img border=\"0\" height=\"12\" src=\"https://a.ichiba.jp.rakuten-static.com/com/img/pdt/img/star_on.gif?v=201705220001\" width=\"12\"/><img border=\"0\" height=\"12\" src=\"https://a.ichiba.jp.rakuten-static.com/com/img/pdt/img/star_on.gif?v=201705220001\" width=\"12\"/><img border=\"0\" height=\"12\" src=\"https://a.ichiba.jp.rakuten-static.com/com/img/pdt/img/star_half.gif?v=201705220001\" width=\"12\"/><span class=\"reviewcolor\">4.61</span><a href=\"http://review.rakuten.co.jp/item/1/213310_17107140/1.1/?s-id=pdt_shoplist_review_books\"> （33件）</a></div>\n",
       "<div align=\"left\" class=\"itemInfoIcn\"><a class=\"quickViewClick\" href=\"?l2-id=pdt_shoplist_detail_books#\"><img align=\"absmiddle\" src=\"https://a.ichiba.jp.rakuten-static.com/com/img/pdt/img/purchase_item_info_beta02.gif?v=201705220001\"/></a></div></div>\n",
       "<div class=\"quickViewShopcart\"><a class=\"dbasketAnchor notquickview\" data-dbasket=\"popuppattern=1\" data-dbasketwindow=\"nodisplay\" href=\"https://direct.step.rakuten.co.jp/rms/mall/cart?device=pc&amp;shopid=213310&amp;itemid=17107140&amp;path=%2Fbook%2F12922903%2F%3Fs-id%3Dpdt_shoplist_books%2317107140&amp;userid=pdt&amp;l2-id=pdt_shoplist_books\"><img align=\"absmiddle\" src=\"https://a.ichiba.jp.rakuten-static.com/com/img/pdt/img/shopcart_bot_2.gif?v=201705220001\"/></a></div>\n",
       "<div class=\"quickViewShoppage\"><a href=\"https://item.rakuten.co.jp/book/12922903/?l2-id=pdt_shoplist_spage_books#17107140\"><img align=\"absmiddle\" src=\"https://a.ichiba.jp.rakuten-static.com/com/img/pdt/img/shoppage_bot_beta02.gif?v=201705220001\"/></a></div>\n",
       "</td>\n",
       "</tr>"
      ]
     },
     "execution_count": 18,
     "metadata": {},
     "output_type": "execute_result"
    }
   ],
   "source": [
    "lowest_item"
   ]
  },
  {
   "cell_type": "code",
   "execution_count": null,
   "metadata": {
    "collapsed": true
   },
   "outputs": [],
   "source": [
    "app = Flask(__name__)\n",
    "\n",
    "@app.route(\"/\")\n",
    "def index():\n",
    "    return render_template('top.html')\n",
    "\n",
    "@app.route('/get_jan_code', methods=['POST'])\n",
    "def get_jan_code():\n",
    "    keyword = request.form['keyword']\n",
    "    jan = get_jan(keyword)\n",
    "    flash(keyword)\n",
    "    return render_template('get_jan_code.html', jan=jan)\n",
    "\n",
    "\n",
    "@app.route('/search', methods=['POST'])\n",
    "def search():\n",
    "    select_jan = request.form['select_jan']\n",
    "    try:\n",
    "        yahoo = get_yahoo_lowest(select_jan)\n",
    "    except:\n",
    "        yahoo = \"Yahoo!ショッピングで取り扱っていない可能性のある商品です。\"\n",
    "    try:\n",
    "        rakuten = get_rakuten_lowest(get_rakuten_lowest_page(select_jan))\n",
    "    except:\n",
    "        rakuten = \"楽天市場で取り扱っていない可能性のある商品です。\"\n",
    "\n",
    "    if type(yahoo) == str or type(rakuten) == str:\n",
    "        judges = [yahoo, rakuten]\n",
    "    else:\n",
    "        judges = []\n",
    "        point_result = judge_platform(yahoo, rakuten, True)\n",
    "        if point_result[0] == \"yahoo\":\n",
    "            judges += [yahoo, rakuten, point_result[1]]\n",
    "        else:\n",
    "            judges += [rakuten, yahoo, point_result[1]]\n",
    "\n",
    "        result = judge_platform(yahoo, rakuten, False)\n",
    "        if result[0] == \"yahoo\":\n",
    "            judges += [yahoo, rakuten, result[1]]\n",
    "        else:\n",
    "            judges += [rakuten, yahoo, result[1]]\n",
    "\n",
    "    return render_template('top.html', judges=judges)\n",
    "\n",
    "\n",
    "if __name__ == \"__main__\":\n",
    "    app.secret_key = 'super secret key'\n",
    "    app.config['SESSION_TYPE'] = 'filesystem'\n",
    "    app.run()"
   ]
  }
 ],
 "metadata": {
  "kernelspec": {
   "display_name": "Python 3",
   "language": "python",
   "name": "python3"
  },
  "language_info": {
   "codemirror_mode": {
    "name": "ipython",
    "version": 3
   },
   "file_extension": ".py",
   "mimetype": "text/x-python",
   "name": "python",
   "nbconvert_exporter": "python",
   "pygments_lexer": "ipython3",
   "version": "3.6.0"
  }
 },
 "nbformat": 4,
 "nbformat_minor": 2
}
