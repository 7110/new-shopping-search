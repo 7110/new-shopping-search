{
 "cells": [
  {
   "cell_type": "code",
   "execution_count": 1,
   "metadata": {
    "collapsed": true
   },
   "outputs": [],
   "source": [
    "from flask import Flask, request,  render_template, flash\n",
    "\n",
    "from controller import (\n",
    "    get_jan,\n",
    "    get_yahoo_lowest,\n",
    "    get_rakuten_lowest_page,\n",
    "    get_rakuten_lowest,\n",
    "    judge_platform,\n",
    ")"
   ]
  },
  {
   "cell_type": "code",
   "execution_count": 3,
   "metadata": {},
   "outputs": [
    {
     "name": "stderr",
     "output_type": "stream",
     "text": [
      " * Running on http://127.0.0.1:5000/ (Press CTRL+C to quit)\n",
      "127.0.0.1 - - [28/May/2017 15:08:08] \"POST /search HTTP/1.1\" 200 -\n"
     ]
    }
   ],
   "source": [
    "app = Flask(__name__)\n",
    "\n",
    "\n",
    "@app.route(\"/\")\n",
    "def index():\n",
    "    return render_template('top.html')\n",
    "\n",
    "\n",
    "@app.route('/get_jan_code', methods=['POST'])\n",
    "def get_jan_code():\n",
    "    keyword = request.form['keyword']\n",
    "    jan = get_jan(keyword)\n",
    "    flash(keyword)\n",
    "    return render_template('get_jan_code.html', jan=jan)\n",
    "\n",
    "\n",
    "@app.route('/search', methods=['POST'])\n",
    "def search():\n",
    "    select_jan = request.form['select_jan']\n",
    "    try:\n",
    "        yahoo = get_yahoo_lowest(select_jan)\n",
    "    except:\n",
    "        yahoo = \"Yahoo!ショッピングで取り扱っていない可能性のある商品です。\"\n",
    "    try:\n",
    "        rakuten = get_rakuten_lowest(get_rakuten_lowest_page(select_jan))\n",
    "    except:\n",
    "        rakuten = \"楽天市場で取り扱っていない可能性のある商品です。\"\n",
    "\n",
    "    if type(yahoo) == str or type(rakuten) == str:\n",
    "        judges = [yahoo, rakuten]\n",
    "    else:\n",
    "        judges = []\n",
    "        point_result = judge_platform(yahoo, rakuten, True)\n",
    "        if point_result[0] == \"yahoo\":\n",
    "            judges += [yahoo, rakuten, point_result[1]]\n",
    "        else:\n",
    "            judges += [rakuten, yahoo, point_result[1]]\n",
    "\n",
    "        result = judge_platform(yahoo, rakuten, False)\n",
    "        if result[0] == \"yahoo\":\n",
    "            judges += [yahoo, rakuten, result[1]]\n",
    "        else:\n",
    "            judges += [rakuten, yahoo, result[1]]\n",
    "\n",
    "    flash(keyword)\n",
    "    return render_template('product.html', judges=judges)\n",
    "\n",
    "\n",
    "if __name__ == \"__main__\":\n",
    "    app.secret_key = 'super secret key'\n",
    "    app.config['SESSION_TYPE'] = 'filesystem'\n",
    "    app.run()"
   ]
  },
  {
   "cell_type": "code",
   "execution_count": null,
   "metadata": {
    "collapsed": true
   },
   "outputs": [],
   "source": []
  }
 ],
 "metadata": {
  "kernelspec": {
   "display_name": "Python 3",
   "language": "python",
   "name": "python3"
  },
  "language_info": {
   "codemirror_mode": {
    "name": "ipython",
    "version": 3
   },
   "file_extension": ".py",
   "mimetype": "text/x-python",
   "name": "python",
   "nbconvert_exporter": "python",
   "pygments_lexer": "ipython3",
   "version": "3.6.0"
  }
 },
 "nbformat": 4,
 "nbformat_minor": 2
}
